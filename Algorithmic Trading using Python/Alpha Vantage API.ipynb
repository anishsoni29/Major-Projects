{
 "cells": [
  {
   "cell_type": "code",
   "execution_count": 1,
   "id": "33783aab",
   "metadata": {},
   "outputs": [],
   "source": [
    "from alpha_vantage.timeseries import TimeSeries"
   ]
  },
  {
   "cell_type": "code",
   "execution_count": 9,
   "id": "8df1ef5f",
   "metadata": {},
   "outputs": [],
   "source": [
    "API_key = \"T5RC6FZEQ6M3Q3V7\""
   ]
  },
  {
   "cell_type": "code",
   "execution_count": 10,
   "id": "a580da53",
   "metadata": {},
   "outputs": [],
   "source": [
    "ts= TimeSeries(key=API_key, output_format='pandas')"
   ]
  },
  {
   "cell_type": "code",
   "execution_count": 11,
   "id": "f8d74117",
   "metadata": {},
   "outputs": [],
   "source": [
    "data = ts.get_daily('TSLA')"
   ]
  },
  {
   "cell_type": "code",
   "execution_count": 12,
   "id": "13e67ab3",
   "metadata": {},
   "outputs": [
    {
     "data": {
      "text/plain": [
       "(            1. open   2. high    3. low  4. close    5. volume\n",
       " date                                                          \n",
       " 2023-10-03  248.610  250.0200  244.4500    246.53  101985305.0\n",
       " 2023-10-02  244.810  254.2799  242.6200    251.60  123810402.0\n",
       " 2023-09-29  250.000  254.7700  246.3500    250.22  128522729.0\n",
       " 2023-09-28  240.020  247.5500  238.6500    246.38  117058870.0\n",
       " 2023-09-27  244.262  245.3300  234.5800    240.50  136597184.0\n",
       " ...             ...       ...       ...       ...          ...\n",
       " 2023-05-17  168.410  174.5000  167.1850    173.86  125473558.0\n",
       " 2023-05-16  165.650  169.5184  164.3500    166.52   98288792.0\n",
       " 2023-05-15  167.655  169.7600  164.5499    166.35  105592510.0\n",
       " 2023-05-12  176.070  177.3800  167.2300    167.98  157849625.0\n",
       " 2023-05-11  168.700  173.5700  166.7900    172.08  103889930.0\n",
       " \n",
       " [100 rows x 5 columns],\n",
       " {'1. Information': 'Daily Prices (open, high, low, close) and Volumes',\n",
       "  '2. Symbol': 'TSLA',\n",
       "  '3. Last Refreshed': '2023-10-03',\n",
       "  '4. Output Size': 'Compact',\n",
       "  '5. Time Zone': 'US/Eastern'})"
      ]
     },
     "execution_count": 12,
     "metadata": {},
     "output_type": "execute_result"
    }
   ],
   "source": [
    "data"
   ]
  },
  {
   "cell_type": "code",
   "execution_count": 13,
   "id": "933d2ec0",
   "metadata": {},
   "outputs": [
    {
     "data": {
      "text/html": [
       "<div>\n",
       "<style scoped>\n",
       "    .dataframe tbody tr th:only-of-type {\n",
       "        vertical-align: middle;\n",
       "    }\n",
       "\n",
       "    .dataframe tbody tr th {\n",
       "        vertical-align: top;\n",
       "    }\n",
       "\n",
       "    .dataframe thead th {\n",
       "        text-align: right;\n",
       "    }\n",
       "</style>\n",
       "<table border=\"1\" class=\"dataframe\">\n",
       "  <thead>\n",
       "    <tr style=\"text-align: right;\">\n",
       "      <th></th>\n",
       "      <th>1. open</th>\n",
       "      <th>2. high</th>\n",
       "      <th>3. low</th>\n",
       "      <th>4. close</th>\n",
       "      <th>5. volume</th>\n",
       "    </tr>\n",
       "    <tr>\n",
       "      <th>date</th>\n",
       "      <th></th>\n",
       "      <th></th>\n",
       "      <th></th>\n",
       "      <th></th>\n",
       "      <th></th>\n",
       "    </tr>\n",
       "  </thead>\n",
       "  <tbody>\n",
       "    <tr>\n",
       "      <th>2023-10-03</th>\n",
       "      <td>248.610</td>\n",
       "      <td>250.0200</td>\n",
       "      <td>244.4500</td>\n",
       "      <td>246.53</td>\n",
       "      <td>101985305.0</td>\n",
       "    </tr>\n",
       "    <tr>\n",
       "      <th>2023-10-02</th>\n",
       "      <td>244.810</td>\n",
       "      <td>254.2799</td>\n",
       "      <td>242.6200</td>\n",
       "      <td>251.60</td>\n",
       "      <td>123810402.0</td>\n",
       "    </tr>\n",
       "    <tr>\n",
       "      <th>2023-09-29</th>\n",
       "      <td>250.000</td>\n",
       "      <td>254.7700</td>\n",
       "      <td>246.3500</td>\n",
       "      <td>250.22</td>\n",
       "      <td>128522729.0</td>\n",
       "    </tr>\n",
       "    <tr>\n",
       "      <th>2023-09-28</th>\n",
       "      <td>240.020</td>\n",
       "      <td>247.5500</td>\n",
       "      <td>238.6500</td>\n",
       "      <td>246.38</td>\n",
       "      <td>117058870.0</td>\n",
       "    </tr>\n",
       "    <tr>\n",
       "      <th>2023-09-27</th>\n",
       "      <td>244.262</td>\n",
       "      <td>245.3300</td>\n",
       "      <td>234.5800</td>\n",
       "      <td>240.50</td>\n",
       "      <td>136597184.0</td>\n",
       "    </tr>\n",
       "    <tr>\n",
       "      <th>...</th>\n",
       "      <td>...</td>\n",
       "      <td>...</td>\n",
       "      <td>...</td>\n",
       "      <td>...</td>\n",
       "      <td>...</td>\n",
       "    </tr>\n",
       "    <tr>\n",
       "      <th>2023-05-17</th>\n",
       "      <td>168.410</td>\n",
       "      <td>174.5000</td>\n",
       "      <td>167.1850</td>\n",
       "      <td>173.86</td>\n",
       "      <td>125473558.0</td>\n",
       "    </tr>\n",
       "    <tr>\n",
       "      <th>2023-05-16</th>\n",
       "      <td>165.650</td>\n",
       "      <td>169.5184</td>\n",
       "      <td>164.3500</td>\n",
       "      <td>166.52</td>\n",
       "      <td>98288792.0</td>\n",
       "    </tr>\n",
       "    <tr>\n",
       "      <th>2023-05-15</th>\n",
       "      <td>167.655</td>\n",
       "      <td>169.7600</td>\n",
       "      <td>164.5499</td>\n",
       "      <td>166.35</td>\n",
       "      <td>105592510.0</td>\n",
       "    </tr>\n",
       "    <tr>\n",
       "      <th>2023-05-12</th>\n",
       "      <td>176.070</td>\n",
       "      <td>177.3800</td>\n",
       "      <td>167.2300</td>\n",
       "      <td>167.98</td>\n",
       "      <td>157849625.0</td>\n",
       "    </tr>\n",
       "    <tr>\n",
       "      <th>2023-05-11</th>\n",
       "      <td>168.700</td>\n",
       "      <td>173.5700</td>\n",
       "      <td>166.7900</td>\n",
       "      <td>172.08</td>\n",
       "      <td>103889930.0</td>\n",
       "    </tr>\n",
       "  </tbody>\n",
       "</table>\n",
       "<p>100 rows × 5 columns</p>\n",
       "</div>"
      ],
      "text/plain": [
       "            1. open   2. high    3. low  4. close    5. volume\n",
       "date                                                          \n",
       "2023-10-03  248.610  250.0200  244.4500    246.53  101985305.0\n",
       "2023-10-02  244.810  254.2799  242.6200    251.60  123810402.0\n",
       "2023-09-29  250.000  254.7700  246.3500    250.22  128522729.0\n",
       "2023-09-28  240.020  247.5500  238.6500    246.38  117058870.0\n",
       "2023-09-27  244.262  245.3300  234.5800    240.50  136597184.0\n",
       "...             ...       ...       ...       ...          ...\n",
       "2023-05-17  168.410  174.5000  167.1850    173.86  125473558.0\n",
       "2023-05-16  165.650  169.5184  164.3500    166.52   98288792.0\n",
       "2023-05-15  167.655  169.7600  164.5499    166.35  105592510.0\n",
       "2023-05-12  176.070  177.3800  167.2300    167.98  157849625.0\n",
       "2023-05-11  168.700  173.5700  166.7900    172.08  103889930.0\n",
       "\n",
       "[100 rows x 5 columns]"
      ]
     },
     "execution_count": 13,
     "metadata": {},
     "output_type": "execute_result"
    }
   ],
   "source": [
    "data[0]"
   ]
  },
  {
   "cell_type": "code",
   "execution_count": 14,
   "id": "4c6a26df",
   "metadata": {},
   "outputs": [],
   "source": [
    "data2= data[0]"
   ]
  },
  {
   "cell_type": "code",
   "execution_count": 15,
   "id": "1fa8d3ab",
   "metadata": {},
   "outputs": [
    {
     "data": {
      "text/plain": [
       "Index(['1. open', '2. high', '3. low', '4. close', '5. volume'], dtype='object')"
      ]
     },
     "execution_count": 15,
     "metadata": {},
     "output_type": "execute_result"
    }
   ],
   "source": [
    "data2.columns"
   ]
  },
  {
   "cell_type": "code",
   "execution_count": 17,
   "id": "476ce87b",
   "metadata": {},
   "outputs": [
    {
     "data": {
      "text/plain": [
       "date\n",
       "2023-10-03    250.0200\n",
       "2023-10-02    254.2799\n",
       "2023-09-29    254.7700\n",
       "2023-09-28    247.5500\n",
       "2023-09-27    245.3300\n",
       "                ...   \n",
       "2023-05-17    174.5000\n",
       "2023-05-16    169.5184\n",
       "2023-05-15    169.7600\n",
       "2023-05-12    177.3800\n",
       "2023-05-11    173.5700\n",
       "Name: 2. high, Length: 100, dtype: float64"
      ]
     },
     "execution_count": 17,
     "metadata": {},
     "output_type": "execute_result"
    }
   ],
   "source": [
    "data2['2. high']"
   ]
  },
  {
   "cell_type": "code",
   "execution_count": null,
   "id": "d5aa3938",
   "metadata": {},
   "outputs": [],
   "source": []
  }
 ],
 "metadata": {
  "kernelspec": {
   "display_name": "Python 3 (ipykernel)",
   "language": "python",
   "name": "python3"
  },
  "language_info": {
   "codemirror_mode": {
    "name": "ipython",
    "version": 3
   },
   "file_extension": ".py",
   "mimetype": "text/x-python",
   "name": "python",
   "nbconvert_exporter": "python",
   "pygments_lexer": "ipython3",
   "version": "3.10.9"
  }
 },
 "nbformat": 4,
 "nbformat_minor": 5
}
